{
  "nbformat": 4,
  "nbformat_minor": 0,
  "metadata": {
    "colab": {
      "name": "Untitled5.ipynb",
      "provenance": [],
      "collapsed_sections": [],
      "machine_shape": "hm",
      "authorship_tag": "ABX9TyOiyeiZVxeVom+3kJDxcrF7",
      "include_colab_link": true
    },
    "kernelspec": {
      "name": "python3",
      "display_name": "Python 3"
    }
  },
  "cells": [
    {
      "cell_type": "markdown",
      "metadata": {
        "id": "view-in-github",
        "colab_type": "text"
      },
      "source": [
        "<a href=\"https://colab.research.google.com/github/kholy/nlp_keras/blob/master/Untitled5.ipynb\" target=\"_parent\"><img src=\"https://colab.research.google.com/assets/colab-badge.svg\" alt=\"Open In Colab\"/></a>"
      ]
    },
    {
      "cell_type": "code",
      "metadata": {
        "id": "ngSg9AFWoiN-",
        "colab_type": "code",
        "colab": {}
      },
      "source": [
        "import pandas as pd\n",
        "import numpy as np\n"
      ],
      "execution_count": 0,
      "outputs": []
    },
    {
      "cell_type": "code",
      "metadata": {
        "id": "wV0PBDAqon4j",
        "colab_type": "code",
        "colab": {
          "base_uri": "https://localhost:8080/",
          "height": 207
        },
        "outputId": "f09bf32a-ac71-4fa8-840e-ddc9e2f4d5f7"
      },
      "source": [
        "!pip install rarfile"
      ],
      "execution_count": 4,
      "outputs": [
        {
          "output_type": "stream",
          "text": [
            "Collecting rarfile\n",
            "\u001b[?25l  Downloading https://files.pythonhosted.org/packages/88/0b/107dde3f330d04668e126932a09002ac47348841453aa0391634381fa087/rarfile-3.1.tar.gz (121kB)\n",
            "\r\u001b[K     |██▊                             | 10kB 20.9MB/s eta 0:00:01\r\u001b[K     |█████▍                          | 20kB 1.8MB/s eta 0:00:01\r\u001b[K     |████████                        | 30kB 2.2MB/s eta 0:00:01\r\u001b[K     |██████████▉                     | 40kB 1.7MB/s eta 0:00:01\r\u001b[K     |█████████████▌                  | 51kB 1.9MB/s eta 0:00:01\r\u001b[K     |████████████████▏               | 61kB 2.3MB/s eta 0:00:01\r\u001b[K     |██████████████████▉             | 71kB 2.5MB/s eta 0:00:01\r\u001b[K     |█████████████████████▋          | 81kB 2.6MB/s eta 0:00:01\r\u001b[K     |████████████████████████▎       | 92kB 2.9MB/s eta 0:00:01\r\u001b[K     |███████████████████████████     | 102kB 2.8MB/s eta 0:00:01\r\u001b[K     |█████████████████████████████▋  | 112kB 2.8MB/s eta 0:00:01\r\u001b[K     |████████████████████████████████| 122kB 2.8MB/s \n",
            "\u001b[?25hBuilding wheels for collected packages: rarfile\n",
            "  Building wheel for rarfile (setup.py) ... \u001b[?25l\u001b[?25hdone\n",
            "  Created wheel for rarfile: filename=rarfile-3.1-cp36-none-any.whl size=24908 sha256=24e733b5e873d179190b48fd20b9c953f8a3a2ecdd91b0926b2596f90346ff1c\n",
            "  Stored in directory: /root/.cache/pip/wheels/23/3c/c8/0215b6a5079492eff3be3f545ae0b0c4a66734c35c9e444eac\n",
            "Successfully built rarfile\n",
            "Installing collected packages: rarfile\n",
            "Successfully installed rarfile-3.1\n"
          ],
          "name": "stdout"
        }
      ]
    },
    {
      "cell_type": "code",
      "metadata": {
        "id": "tVLpRLBoo1UJ",
        "colab_type": "code",
        "colab": {}
      },
      "source": [
        "from pydrive.auth import GoogleAuth\n",
        "from pydrive.drive import GoogleDrive\n",
        "from google.colab import auth\n",
        "from oauth2client.client import GoogleCredentials"
      ],
      "execution_count": 0,
      "outputs": []
    },
    {
      "cell_type": "code",
      "metadata": {
        "id": "OwpsHqYUpfEp",
        "colab_type": "code",
        "colab": {}
      },
      "source": [
        "auth.authenticate_user()\n",
        "gauth = GoogleAuth()\n",
        "gauth.credentials = GoogleCredentials.get_application_default()\n",
        "drive = GoogleDrive(gauth)"
      ],
      "execution_count": 0,
      "outputs": []
    },
    {
      "cell_type": "code",
      "metadata": {
        "id": "hWT_f0rxplOl",
        "colab_type": "code",
        "colab": {}
      },
      "source": [
        "downloaded = drive.CreateFile({'id':\"1Oa5ID-hGfxPMutoOcz4YG2igh4dTDPzX\"})   # replace the id with id of file you want to access\n",
        "downloaded.GetContentFile('full_dataset-clean_tweets.rar')        # replace the file name with your file"
      ],
      "execution_count": 0,
      "outputs": []
    },
    {
      "cell_type": "code",
      "metadata": {
        "id": "ChVReqCfqQ3h",
        "colab_type": "code",
        "colab": {
          "base_uri": "https://localhost:8080/",
          "height": 34
        },
        "outputId": "9df5aaf4-e193-4ea3-9c87-c08d9fec5126"
      },
      "source": [
        "import rarfile\n",
        "\n",
        "rf = rarfile.RarFile('full_dataset-clean_tweets.rar')\n",
        "for f in rf.infolist():\n",
        "  print (f.filename, f.file_size)\n",
        "  if f.filename == 'full_dataset-clean_tweets.json':\n",
        "    rf.extract(f,'./sample_data/full_dataset-clean_tweets.json')\n",
        "    #df = pd.read_json(rf.read(f), chunksize=100)\n",
        "    #for chunk in df:\n",
        "      #print(chunk)"
      ],
      "execution_count": 12,
      "outputs": [
        {
          "output_type": "stream",
          "text": [
            "full_dataset-clean_tweets.json 10568097900\n"
          ],
          "name": "stdout"
        }
      ]
    },
    {
      "cell_type": "code",
      "metadata": {
        "id": "kvxipJgHr0JA",
        "colab_type": "code",
        "colab": {}
      },
      "source": [
        "tweets_file=rf.infolist()[0].filename\n",
        "print(tweets_file)"
      ],
      "execution_count": 0,
      "outputs": []
    },
    {
      "cell_type": "code",
      "metadata": {
        "id": "a_iFHV3A0Ly7",
        "colab_type": "code",
        "colab": {
          "base_uri": "https://localhost:8080/",
          "height": 51
        },
        "outputId": "1dd1e3d4-b7d4-4a84-e7da-c40b86df60b0"
      },
      "source": [
        "%ls"
      ],
      "execution_count": 11,
      "outputs": [
        {
          "output_type": "stream",
          "text": [
            "adc.json                         full_dataset-clean_tweets.rar\n",
            "\u001b[0m\u001b[01;34mfull_dataset-clean_tweets.json\u001b[0m/  \u001b[01;34msample_data\u001b[0m/\n"
          ],
          "name": "stdout"
        }
      ]
    },
    {
      "cell_type": "code",
      "metadata": {
        "id": "f5cuLtep8PeL",
        "colab_type": "code",
        "colab": {}
      },
      "source": [
        ""
      ],
      "execution_count": 0,
      "outputs": []
    }
  ]
}